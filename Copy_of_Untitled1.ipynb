{
  "nbformat": 4,
  "nbformat_minor": 0,
  "metadata": {
    "colab": {
      "provenance": [],
      "authorship_tag": "ABX9TyPXIU/MKiIeHOcZoxL5LoOF",
      "include_colab_link": true
    },
    "kernelspec": {
      "name": "python3",
      "display_name": "Python 3"
    },
    "language_info": {
      "name": "python"
    }
  },
  "cells": [
    {
      "cell_type": "markdown",
      "metadata": {
        "id": "view-in-github",
        "colab_type": "text"
      },
      "source": [
        "<a href=\"https://colab.research.google.com/github/savvymarvy/Projects/blob/main/Copy_of_Untitled1.ipynb\" target=\"_parent\"><img src=\"https://colab.research.google.com/assets/colab-badge.svg\" alt=\"Open In Colab\"/></a>"
      ]
    },
    {
      "cell_type": "markdown",
      "source": [
        "1. I tweaked the original code to display the first 200 characters of Project Gutenberg's crime and punishment by changing the \"print(text[0:100}) to print(text[0:200])\"."
      ],
      "metadata": {
        "id": "CId7LTc48sa3"
      }
    },
    {
      "cell_type": "markdown",
      "source": [
        "Previous Code Outline:"
      ],
      "metadata": {
        "id": "mpX9RxEyDrmc"
      }
    },
    {
      "cell_type": "code",
      "metadata": {
        "id": "pm66yOQBRCwy",
        "colab": {
          "base_uri": "https://localhost:8080/"
        },
        "outputId": "e27307d1-5d7a-4627-b361-0d42a7050c51"
      },
      "source": [
        "from bs4 import BeautifulSoup\n",
        "import nltk\n",
        "import requests\n",
        "text = requests.get(\"http://inta.gatech.s3.amazonaws.com/crime_and_punishment.txt\").text\n",
        "# text = requests.get(\"http://www.gutenberg.org/files/2554/2554.txt\").content\n",
        "print(text[0:100]) # Here are the first 100 characters of Project Gutenberg's crime and punishment\n",
        "print('length of text: %s characters' % len(text))"
      ],
      "execution_count": null,
      "outputs": [
        {
          "output_type": "stream",
          "name": "stdout",
          "text": [
            "ï»¿The Project Gutenberg EBook of Crime and Punishment, by Fyodor Dostoevsky\r\n",
            "\r\n",
            "This eBook is for th\n",
            "length of text: 1177120 characters\n"
          ]
        }
      ]
    },
    {
      "cell_type": "markdown",
      "source": [
        "New code outline: "
      ],
      "metadata": {
        "id": "Weiu9pDuDNG2"
      }
    },
    {
      "cell_type": "code",
      "metadata": {
        "colab": {
          "base_uri": "https://localhost:8080/"
        },
        "outputId": "ace8c70e-419c-469e-9744-9b058a728fe3",
        "id": "lDTMGKxTDdf-"
      },
      "source": [
        "from bs4 import BeautifulSoup\n",
        "import nltk\n",
        "import requests\n",
        "text = requests.get(\"http://inta.gatech.s3.amazonaws.com/crime_and_punishment.txt\").text\n",
        "# text = requests.get(\"http://www.gutenberg.org/files/2554/2554.txt\").content\n",
        "print(text[0:200]) # Here are the first 100 characters of Project Gutenberg's crime and punishment\n",
        "print('length of text: %s characters' % len(text))"
      ],
      "execution_count": null,
      "outputs": [
        {
          "output_type": "stream",
          "name": "stdout",
          "text": [
            "ï»¿The Project Gutenberg EBook of Crime and Punishment, by Fyodor Dostoevsky\r\n",
            "\r\n",
            "This eBook is for the use of anyone anywhere at no cost and with\r\n",
            "almost no restrictions whatsoever.  You may copy it, g\n",
            "length of text: 1177120 characters\n"
          ]
        }
      ]
    },
    {
      "cell_type": "markdown",
      "source": [
        "2. I changed the final print outline to state \"And the number of words in this document is\", by simply rearranging the print statement"
      ],
      "metadata": {
        "id": "tGJ2AY7yD08y"
      }
    },
    {
      "cell_type": "markdown",
      "source": [
        "Previous Code Outline:"
      ],
      "metadata": {
        "id": "mWomshzcFzEy"
      }
    },
    {
      "cell_type": "code",
      "metadata": {
        "id": "6ADGjDJYRCw4",
        "colab": {
          "base_uri": "https://localhost:8080/"
        },
        "outputId": "778bad4b-5d3b-4376-96e4-17c124ed8f88"
      },
      "source": [
        "tokens = nltk.word_tokenize(text)\n",
        "# print the number of word \"tokens\" in the book:\n",
        "print('There are %s words in crime and punishment' % len(tokens))"
      ],
      "execution_count": null,
      "outputs": [
        {
          "output_type": "stream",
          "name": "stdout",
          "text": [
            "There are 253750 words in crime and punishment\n"
          ]
        }
      ]
    },
    {
      "cell_type": "markdown",
      "source": [
        "New Code Outline:"
      ],
      "metadata": {
        "id": "mtUFbdnPF8pP"
      }
    },
    {
      "cell_type": "code",
      "metadata": {
        "colab": {
          "base_uri": "https://localhost:8080/"
        },
        "outputId": "8d704cff-66a7-4408-d50b-f1d0184d6929",
        "id": "lgwSsIJBJ-O6"
      },
      "source": [
        "tokens = nltk.word_tokenize(text)\n",
        "# print the number of word \"tokens\" in the book:\n",
        "print('And the number of words in this document is %s words' % len(tokens))"
      ],
      "execution_count": null,
      "outputs": [
        {
          "output_type": "stream",
          "name": "stdout",
          "text": [
            "And the number of words in this document is 253750 words\n"
          ]
        }
      ]
    },
    {
      "cell_type": "markdown",
      "source": [
        "3. I changed the number from \"500\" to \"750\", to get a different word and the word changed from 'were' to 'wife'"
      ],
      "metadata": {
        "id": "YMghq21GKe9P"
      }
    },
    {
      "cell_type": "markdown",
      "source": [
        "Previous Code Outline:"
      ],
      "metadata": {
        "id": "kaNGwUMyzYQZ"
      }
    },
    {
      "cell_type": "code",
      "metadata": {
        "id": "5uKXBpmXRCw7",
        "colab": {
          "base_uri": "https://localhost:8080/",
          "height": 34
        },
        "outputId": "3fbb8b8e-846c-4610-c5d2-05de8248db0c"
      },
      "source": [
        "text = nltk.Text(tokens)\n",
        "# Create an NLTK text object, in case you want to use some of the nltk.text functions\n",
        "# http://www.nltk.org/api/nltk.html#module-nltk.text \n",
        "print(text[500])"
      ],
      "execution_count": null,
      "outputs": [
        {
          "output_type": "stream",
          "text": [
            "were\n"
          ],
          "name": "stdout"
        }
      ]
    },
    {
      "cell_type": "markdown",
      "source": [
        "New Code Outline:"
      ],
      "metadata": {
        "id": "jBLZmmwjzfuq"
      }
    },
    {
      "cell_type": "code",
      "metadata": {
        "colab": {
          "base_uri": "https://localhost:8080/"
        },
        "outputId": "f7a65746-8604-4f14-cd7b-2077ba9195f3",
        "id": "U1FAAq6h0F1E"
      },
      "source": [
        "text = nltk.Text(tokens)\n",
        "# Create an NLTK text object, in case you want to use some of the nltk.text functions\n",
        "# http://www.nltk.org/api/nltk.html#module-nltk.text \n",
        "print(text[750])"
      ],
      "execution_count": null,
      "outputs": [
        {
          "output_type": "stream",
          "name": "stdout",
          "text": [
            "wife\n"
          ]
        }
      ]
    },
    {
      "cell_type": "markdown",
      "source": [
        "4. The initial code was for the most common appearing word, I reformatted the code to display the least common appearing word by replacing '-x' with 'x'"
      ],
      "metadata": {
        "id": "IFVESyEA0Mru"
      }
    },
    {
      "cell_type": "markdown",
      "source": [
        "Previous Code Outline:"
      ],
      "metadata": {
        "id": "7GYqBbzA1PVr"
      }
    },
    {
      "cell_type": "code",
      "metadata": {
        "id": "ofThN0YbRCw_",
        "colab": {
          "base_uri": "https://localhost:8080/"
        },
        "outputId": "abae564b-760b-42c4-fd2e-65532ea60c3c"
      },
      "source": [
        "# Do word counts using the defaultdict construction in python\n",
        "# Defaultdicts are dicts where looking for a missing key gives a default value instead of an error\n",
        "# An int-based defaultdict would return a zero-integer. So starting with a defaultdict and \n",
        "# incrementing hte value every time a word occurs will give a word count\n",
        "from collections import defaultdict\n",
        "counts=defaultdict(int)\n",
        "for word in text:\n",
        "    counts[word]+=1\n",
        "print('the word \"%s\" appeared %s times' % ('the',counts['the']))\n",
        "# To sort the wordcount, do:\n",
        "sorted_counts=sorted(counts.items(), key=lambda x: -x[1])\n",
        "print('the word \"%s\" is the most common, appearing %s times' % (sorted_counts[0][0], sorted_counts[0][1]))\n"
      ],
      "execution_count": null,
      "outputs": [
        {
          "output_type": "stream",
          "name": "stdout",
          "text": [
            "the word \"the\" appeared 7431 times\n",
            "the word \",\" is the most common, appearing 16176 times\n"
          ]
        }
      ]
    },
    {
      "cell_type": "markdown",
      "source": [
        "New Code Outline:"
      ],
      "metadata": {
        "id": "C0RMS6801WPe"
      }
    },
    {
      "cell_type": "code",
      "metadata": {
        "colab": {
          "base_uri": "https://localhost:8080/"
        },
        "outputId": "9b848ac3-b556-4c67-a9ce-740dc18e691b",
        "id": "ixsTWxRa1nIv"
      },
      "source": [
        "# Do word counts using the defaultdict construction in python\n",
        "# Defaultdicts are dicts where looking for a missing key gives a default value instead of an error\n",
        "# An int-based defaultdict would return a zero-integer. So starting with a defaultdict and \n",
        "# incrementing hte value every time a word occurs will give a word count\n",
        "from collections import defaultdict\n",
        "counts=defaultdict(int)\n",
        "for word in text:\n",
        "    counts[word]+=1\n",
        "print('the word \"%s\" appeared %s times' % ('the',counts['the']))\n",
        "# To sort the wordcount, do:\n",
        "sorted_counts=sorted(counts.items(), key=lambda x: x[1])\n",
        "print('the word \"%s\" is the least common, appearing only %s times' % (sorted_counts[0][0], sorted_counts[0][1]))\n"
      ],
      "execution_count": null,
      "outputs": [
        {
          "output_type": "stream",
          "name": "stdout",
          "text": [
            "the word \"the\" appeared 7431 times\n",
            "the word \"ï\" is the least common, appearing only 1 times\n"
          ]
        }
      ]
    },
    {
      "cell_type": "markdown",
      "source": [
        "5. I changed the selection of words from the first 15 words to the 500th to 505th words, and then replaced every letter \"a\" with a blank space"
      ],
      "metadata": {
        "id": "8lmEzJTO1puu"
      }
    },
    {
      "cell_type": "markdown",
      "source": [
        "Previous Code Outline:"
      ],
      "metadata": {
        "id": "xWgaEMSIAq76"
      }
    },
    {
      "cell_type": "code",
      "metadata": {
        "colab": {
          "base_uri": "https://localhost:8080/",
          "height": 34
        },
        "outputId": "0bfa58f4-afa9-4d84-9a62-62c9a0c0f050",
        "id": "by4Qgu4sBGLh"
      },
      "source": [
        "# To figure out how many of these words are English words, we need an english dictionary\n",
        "english=nltk.corpus.words.words('en')\n",
        "\n",
        "print(english[0:15])\n",
        "# load an english dictionary (i.e. list of english words) from nltk\n",
        "\n",
        "english = list(set([w.lower() for w in english]))\n",
        "# Then make sure all words are lowercase - so we would accept 'aaron' as a word, no matter the capitalization"
      ],
      "execution_count": null,
      "outputs": [
        {
          "output_type": "stream",
          "text": [
            "['A', 'a', 'aa', 'aal', 'aalii', 'aam', 'Aani', 'aardvark', 'aardwolf', 'Aaron', 'Aaronic', 'Aaronical', 'Aaronite', 'Aaronitic', 'Aaru']\n"
          ],
          "name": "stdout"
        }
      ]
    },
    {
      "cell_type": "markdown",
      "source": [
        "New Code Outline:"
      ],
      "metadata": {
        "id": "BNdMx9ctAva4"
      }
    },
    {
      "cell_type": "code",
      "metadata": {
        "id": "2YXaiQZKRCxH",
        "colab": {
          "base_uri": "https://localhost:8080/"
        },
        "outputId": "79cba689-1bc1-49f1-f6ab-cbeee049dee4"
      },
      "source": [
        "# To figure out how many of these words are English words, we need an english dictionary\n",
        "english=nltk.corpus.words.words('en')\n",
        "\n",
        "print(english[500:505])\n",
        "x = english[500:505]\n",
        "# load an english dictionary (i.e. list of english words) from nltk\n",
        "\n",
        "english = list(set([w.lower() for w in english]))\n",
        "[y.replace('a', '') for y in x]\n",
        "# Then make sure all words are lowercase - so we would accept 'aaron' as a word, no matter the capitalization"
      ],
      "execution_count": null,
      "outputs": [
        {
          "output_type": "stream",
          "name": "stdout",
          "text": [
            "['absconder', 'absconsa', 'abscoulomb', 'absence', 'absent']\n"
          ]
        },
        {
          "output_type": "execute_result",
          "data": {
            "text/plain": [
              "['bsconder', 'bscons', 'bscoulomb', 'bsence', 'bsent']"
            ]
          },
          "metadata": {},
          "execution_count": 50
        }
      ]
    }
  ]
}